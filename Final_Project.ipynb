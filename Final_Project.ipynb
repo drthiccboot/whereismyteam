{
  "nbformat": 4,
  "nbformat_minor": 0,
  "metadata": {
    "colab": {
      "provenance": [],
      "authorship_tag": "ABX9TyOFMyRwU/55zM9ratex+m+5",
      "include_colab_link": true
    },
    "kernelspec": {
      "name": "python3",
      "display_name": "Python 3"
    },
    "language_info": {
      "name": "python"
    }
  },
  "cells": [
    {
      "cell_type": "markdown",
      "metadata": {
        "id": "view-in-github",
        "colab_type": "text"
      },
      "source": [
        "<a href=\"https://colab.research.google.com/github/drthiccboot/whereismyteam/blob/main/Final_Project.ipynb\" target=\"_parent\"><img src=\"https://colab.research.google.com/assets/colab-badge.svg\" alt=\"Open In Colab\"/></a>"
      ]
    },
    {
      "cell_type": "code",
      "execution_count": 45,
      "metadata": {
        "colab": {
          "base_uri": "https://localhost:8080/"
        },
        "id": "pxOLziCT5Xy0",
        "outputId": "5f66a1bd-0a57-468d-8a7f-7236484e4e8b"
      },
      "outputs": [
        {
          "name": "stdout",
          "output_type": "stream",
          "text": [
            "Input artist  TS\n",
            "Possible locations include\n",
            "['India, China, United States, Nigeria, Brazil, Russia, Mexico, Japan, Germany, United Kingdom or Global']\n",
            "Input Location  US\n"
          ]
        }
      ],
      "source": [
        "locations = [\"India, China, United States, Nigeria, Brazil, Russia, Mexico, Japan, Germany, United Kingdom or Global\"]\n",
        "artist = input(\"Input artist  \")\n",
        "print(\"Possible locations include\")\n",
        "print(locations)\n",
        "location = input(\"Input Location  \")\n",
        "# if the location is not in the list then print(\"Location not in list, try again\")\n",
        "songs = [\"ABCs\", \"Twinkle Twinkle Little Star\", \"Scooby Doo Theme\", \"Three Blind Mice\", \"Random Song # 16\", \"\",\"\",\"\",\"\",\"\"]\n",
        "plays = [\"10\"]"
      ]
    },
    {
      "cell_type": "code",
      "source": [
        "print(\"Showing results for \" + artist + \" in \" + location)\n",
        "print(\"Track #       Track\")\n",
        "print(\"___________________________________________________\")\n",
        "for i, song in enumerate(songs[:5]):\n",
        "    track_num = str(i+1)\n",
        "    print(\"Track \" + track_num + \":      \" + song + \"  \" + plays[0])"
      ],
      "metadata": {
        "colab": {
          "base_uri": "https://localhost:8080/"
        },
        "id": "7sUU9fCS6Xy8",
        "outputId": "ff6f7890-6e34-489c-90b0-d9e14a167763"
      },
      "execution_count": 49,
      "outputs": [
        {
          "output_type": "stream",
          "name": "stdout",
          "text": [
            "Showing results for TS in US\n",
            "Track #       Track\n",
            "___________________________________________________\n",
            "Track 1:      ABCs  10\n",
            "Track 2:      Twinkle Twinkle Little Star  10\n",
            "Track 3:      Scooby Doo Theme  10\n",
            "Track 4:      Three Blind Mice  10\n",
            "Track 5:      Random Song # 16  10\n"
          ]
        }
      ]
    }
  ]
}