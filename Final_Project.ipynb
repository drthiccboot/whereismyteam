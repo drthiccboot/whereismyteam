{
  "nbformat": 4,
  "nbformat_minor": 0,
  "metadata": {
    "colab": {
      "provenance": [],
      "authorship_tag": "ABX9TyOayqmpn7uZTXhD0AazIXqn",
      "include_colab_link": true
    },
    "kernelspec": {
      "name": "python3",
      "display_name": "Python 3"
    },
    "language_info": {
      "name": "python"
    }
  },
  "cells": [
    {
      "cell_type": "markdown",
      "metadata": {
        "id": "view-in-github",
        "colab_type": "text"
      },
      "source": [
        "<a href=\"https://colab.research.google.com/github/drthiccboot/whereismyteam/blob/Code/Final_Project.ipynb\" target=\"_parent\"><img src=\"https://colab.research.google.com/assets/colab-badge.svg\" alt=\"Open In Colab\"/></a>"
      ]
    },
    {
      "cell_type": "code",
      "execution_count": 6,
      "metadata": {
        "colab": {
          "base_uri": "https://localhost:8080/"
        },
        "id": "pxOLziCT5Xy0",
        "outputId": "7a126118-2fcc-47e0-cd37-05daebae220f"
      },
      "outputs": [
        {
          "output_type": "stream",
          "name": "stdout",
          "text": [
            "Input artist  TS\n",
            "Possible locations include\n",
            "['India', 'China', 'United States', 'Nigeria', 'Brazil', 'Russia', 'Mexico', 'Japan', 'Germany', 'United Kingdom', 'Global']\n",
            "Input Location  United States\n",
            "Loading data...\n"
          ]
        }
      ],
      "source": [
        "locations = [\"India\", \"China\", \"United States\", \"Nigeria\", \"Brazil\", \"Russia\", \"Mexico\", \"Japan\", \"Germany\", \"United Kingdom\", \"Global\"]\n",
        "artist = input(\"Input artist  \")\n",
        "print(\"Possible locations include\")\n",
        "print(locations)\n",
        "location = input(\"Input Location  \")\n",
        "songs = [\"ABCs\", \"Twinkle Twinkle Little Star\", \"Scooby Doo Theme\", \"Three Blind Mice\", \"Random Song # 16\", \"\",\"\",\"\",\"\",\"\"]\n",
        "plays = [\"10\"]\n",
        "\n",
        "if location not in locations:\n",
        "  print(\"Error. Location not valid. Please enter a valid location\")\n",
        "else:\n",
        "  print(\"Loading data...\")"
      ]
    },
    {
      "cell_type": "code",
      "source": [
        "print(\"Showing results for \" + artist + \" in \" + location)\n",
        "print(\"Track #       Track\")\n",
        "print(\"___________________________________________________\")\n",
        "for i, song in enumerate(songs[:5]):\n",
        "    track_num = str(i+1)\n",
        "    print(\"Track \" + track_num + \":      \" + song + \"  \" + plays[0])"
      ],
      "metadata": {
        "colab": {
          "base_uri": "https://localhost:8080/"
        },
        "id": "7sUU9fCS6Xy8",
        "outputId": "d60a4a8d-0c86-4aa4-f671-0b84e1f63041"
      },
      "execution_count": 7,
      "outputs": [
        {
          "output_type": "stream",
          "name": "stdout",
          "text": [
            "Showing results for TS in United States\n",
            "Track #       Track\n",
            "___________________________________________________\n",
            "Track 1:      ABCs  10\n",
            "Track 2:      Twinkle Twinkle Little Star  10\n",
            "Track 3:      Scooby Doo Theme  10\n",
            "Track 4:      Three Blind Mice  10\n",
            "Track 5:      Random Song # 16  10\n"
          ]
        }
      ]
    }
  ]
}